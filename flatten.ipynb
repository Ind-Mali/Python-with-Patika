{
 "cells": [
  {
   "cell_type": "code",
   "execution_count": 1,
   "metadata": {},
   "outputs": [],
   "source": [
    "def flattened (x,y):\n",
    "\n",
    "    for i in x:\n",
    "        if type(i) != list:\n",
    "            y.append(i)\n",
    "        elif type(i) == list:\n",
    "            flattened(i, y)\n",
    "    return y\n",
    "\n",
    "lıst =[[1, 2], [\"a\", 4], [5, \"b\", 7],[\"c\",\"d\",\"e\",9]]\n",
    "d = []"
   ]
  },
  {
   "cell_type": "code",
   "execution_count": 2,
   "metadata": {
    "scrolled": true
   },
   "outputs": [
    {
     "data": {
      "text/plain": [
       "[1, 2, 'a', 4, 5, 'b', 7, 'c', 'd', 'e', 9]"
      ]
     },
     "execution_count": 2,
     "metadata": {},
     "output_type": "execute_result"
    }
   ],
   "source": [
    "flattened(lıst,d)"
   ]
  }
 ],
 "metadata": {
  "kernelspec": {
   "display_name": "Python 3",
   "language": "python",
   "name": "python3"
  },
  "language_info": {
   "codemirror_mode": {
    "name": "ipython",
    "version": 3
   },
   "file_extension": ".py",
   "mimetype": "text/x-python",
   "name": "python",
   "nbconvert_exporter": "python",
   "pygments_lexer": "ipython3",
   "version": "3.8.5"
  }
 },
 "nbformat": 4,
 "nbformat_minor": 4
}
